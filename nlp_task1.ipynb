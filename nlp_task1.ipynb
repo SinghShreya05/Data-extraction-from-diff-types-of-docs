{
 "cells": [
  {
   "cell_type": "code",
   "execution_count": 1,
   "metadata": {
    "ExecuteTime": {
     "end_time": "2020-12-18T08:55:34.883409Z",
     "start_time": "2020-12-18T08:55:22.458167Z"
    }
   },
   "outputs": [],
   "source": [
    "import nltk"
   ]
  },
  {
   "cell_type": "code",
   "execution_count": 2,
   "metadata": {
    "ExecuteTime": {
     "end_time": "2020-12-18T08:55:34.899406Z",
     "start_time": "2020-12-18T08:55:34.883409Z"
    }
   },
   "outputs": [],
   "source": [
    "text = '''\n",
    "Joe waited for the train. The train was late. \n",
    "Mary and Samantha took the bus. \n",
    "I looked for Mary and Samantha at the bus station.\n",
    "'''"
   ]
  },
  {
   "cell_type": "code",
   "execution_count": 3,
   "metadata": {
    "ExecuteTime": {
     "end_time": "2020-12-18T08:55:35.107479Z",
     "start_time": "2020-12-18T08:55:34.899406Z"
    }
   },
   "outputs": [
    {
     "data": {
      "text/plain": [
       "['\\nJoe waited for the train.',\n",
       " 'The train was late.',\n",
       " 'Mary and Samantha took the bus.',\n",
       " 'I looked for Mary and Samantha at the bus station.']"
      ]
     },
     "execution_count": 3,
     "metadata": {},
     "output_type": "execute_result"
    }
   ],
   "source": [
    "from nltk.tokenize import sent_tokenize\n",
    "token_text = sent_tokenize(text)\n",
    "token_text"
   ]
  },
  {
   "cell_type": "code",
   "execution_count": 4,
   "metadata": {
    "ExecuteTime": {
     "end_time": "2020-12-18T08:55:35.557064Z",
     "start_time": "2020-12-18T08:55:35.107897Z"
    }
   },
   "outputs": [
    {
     "name": "stderr",
     "output_type": "stream",
     "text": [
      "[nltk_data] Downloading package punkt to\n",
      "[nltk_data]     C:\\Users\\Documents\\AppData\\Roaming\\nltk_data...\n",
      "[nltk_data]   Package punkt is already up-to-date!\n"
     ]
    },
    {
     "data": {
      "text/plain": [
       "True"
      ]
     },
     "execution_count": 4,
     "metadata": {},
     "output_type": "execute_result"
    }
   ],
   "source": [
    "nltk.download('punkt')"
   ]
  },
  {
   "cell_type": "code",
   "execution_count": 5,
   "metadata": {
    "ExecuteTime": {
     "end_time": "2020-12-18T08:55:35.573038Z",
     "start_time": "2020-12-18T08:55:35.557064Z"
    }
   },
   "outputs": [
    {
     "name": "stdout",
     "output_type": "stream",
     "text": [
      "\n",
      "Joe waited for the train.\n",
      "The train was late.\n",
      "Mary and Samantha took the bus.\n",
      "I looked for Mary and Samantha at the bus station.\n"
     ]
    }
   ],
   "source": [
    "for s in token_text:\n",
    "    print(s)"
   ]
  },
  {
   "cell_type": "code",
   "execution_count": 6,
   "metadata": {
    "ExecuteTime": {
     "end_time": "2020-12-18T08:55:35.781041Z",
     "start_time": "2020-12-18T08:55:35.573038Z"
    }
   },
   "outputs": [
    {
     "data": {
      "text/plain": [
       "'\\nJoe waited for the train.'"
      ]
     },
     "execution_count": 6,
     "metadata": {},
     "output_type": "execute_result"
    }
   ],
   "source": [
    "token_text[0]"
   ]
  },
  {
   "cell_type": "code",
   "execution_count": 7,
   "metadata": {
    "ExecuteTime": {
     "end_time": "2020-12-18T08:55:35.869085Z",
     "start_time": "2020-12-18T08:55:35.781041Z"
    }
   },
   "outputs": [],
   "source": [
    "text1 = '''\n",
    "NLTK ist Open Source Software. Der Quellcode wird unter den Bedingungen der Apache License Version 2.0 vertrieben.  \n",
    "Die Dokumentation wird unter den Bedingungen der Creative Commons-Lizenz Namensnennung - Nicht kommerziell - Keine \n",
    "abgeleiteten Werke 3.0 in den Vereinigten Staaten verteilt.\n",
    "'''"
   ]
  },
  {
   "cell_type": "code",
   "execution_count": 8,
   "metadata": {
    "ExecuteTime": {
     "end_time": "2020-12-18T08:55:36.214609Z",
     "start_time": "2020-12-18T08:55:35.869085Z"
    }
   },
   "outputs": [
    {
     "data": {
      "text/plain": [
       "['\\nNLTK ist Open Source Software.',\n",
       " 'Der Quellcode wird unter den Bedingungen der Apache License Version 2.0 vertrieben.',\n",
       " 'Die Dokumentation wird unter den Bedingungen der Creative Commons-Lizenz Namensnennung - Nicht kommerziell - Keine \\nabgeleiteten Werke 3.0 in den Vereinigten Staaten verteilt.']"
      ]
     },
     "execution_count": 8,
     "metadata": {},
     "output_type": "execute_result"
    }
   ],
   "source": [
    "token_text1 = sent_tokenize(text1, language='german')\n",
    "token_text1"
   ]
  },
  {
   "cell_type": "code",
   "execution_count": 9,
   "metadata": {
    "ExecuteTime": {
     "end_time": "2020-12-18T08:55:36.230604Z",
     "start_time": "2020-12-18T08:55:36.214609Z"
    }
   },
   "outputs": [
    {
     "data": {
      "text/plain": [
       "['Joe',\n",
       " 'waited',\n",
       " 'for',\n",
       " 'the',\n",
       " 'train',\n",
       " '.',\n",
       " 'The',\n",
       " 'train',\n",
       " 'was',\n",
       " 'late',\n",
       " '.',\n",
       " 'Mary',\n",
       " 'and',\n",
       " 'Samantha',\n",
       " 'took',\n",
       " 'the',\n",
       " 'bus',\n",
       " '.',\n",
       " 'I',\n",
       " 'looked',\n",
       " 'for',\n",
       " 'Mary',\n",
       " 'and',\n",
       " 'Samantha',\n",
       " 'at',\n",
       " 'the',\n",
       " 'bus',\n",
       " 'station',\n",
       " '.']"
      ]
     },
     "execution_count": 9,
     "metadata": {},
     "output_type": "execute_result"
    }
   ],
   "source": [
    "from nltk.tokenize import word_tokenize\n",
    "word_tok = word_tokenize(text)\n",
    "word_tok"
   ]
  },
  {
   "cell_type": "code",
   "execution_count": 10,
   "metadata": {
    "ExecuteTime": {
     "end_time": "2020-12-18T08:55:36.381806Z",
     "start_time": "2020-12-18T08:55:36.230604Z"
    }
   },
   "outputs": [
    {
     "data": {
      "text/plain": [
       "['Oh', 'my', 'God', '!!']"
      ]
     },
     "execution_count": 10,
     "metadata": {},
     "output_type": "execute_result"
    }
   ],
   "source": [
    "from nltk.tokenize import WordPunctTokenizer\n",
    "res = WordPunctTokenizer().tokenize(\"Oh my God!!\")\n",
    "res"
   ]
  },
  {
   "cell_type": "code",
   "execution_count": 11,
   "metadata": {
    "ExecuteTime": {
     "end_time": "2020-12-18T08:55:36.463034Z",
     "start_time": "2020-12-18T08:55:36.381806Z"
    }
   },
   "outputs": [
    {
     "data": {
      "text/plain": [
       "['I', 'have', 'been', 'help', 'them', 'he', 'believ', ',', 'love', '.']"
      ]
     },
     "execution_count": 11,
     "metadata": {},
     "output_type": "execute_result"
    }
   ],
   "source": [
    "arr=[]\n",
    "t1=\"I have been helping them he believes, love.\"\n",
    "t1_tok = word_tokenize(t1)\n",
    "from nltk.stem import PorterStemmer\n",
    "word_stemmer = PorterStemmer()\n",
    "for i in t1_tok:\n",
    "  result = word_stemmer.stem(i)\n",
    "  arr.append(result)\n",
    "arr"
   ]
  },
  {
   "cell_type": "code",
   "execution_count": 12,
   "metadata": {
    "ExecuteTime": {
     "end_time": "2020-12-18T08:55:36.559025Z",
     "start_time": "2020-12-18T08:55:36.463034Z"
    }
   },
   "outputs": [
    {
     "data": {
      "text/plain": [
       "['i', 'hav', 'been', 'help', 'them', 'he', 'believ', ',', 'lov', '.']"
      ]
     },
     "execution_count": 12,
     "metadata": {},
     "output_type": "execute_result"
    }
   ],
   "source": [
    "arr1=[]\n",
    "from nltk.stem.lancaster import LancasterStemmer\n",
    "Lanc_stemmer = LancasterStemmer() \n",
    "for i in t1_tok:\n",
    "  result = Lanc_stemmer.stem(i)\n",
    "  arr1.append(result)\n",
    "# we can see some words like love are taken as lov which dont have any meaning\n",
    "arr1"
   ]
  },
  {
   "cell_type": "code",
   "execution_count": 13,
   "metadata": {
    "ExecuteTime": {
     "end_time": "2020-12-18T08:55:36.655090Z",
     "start_time": "2020-12-18T08:55:36.559025Z"
    }
   },
   "outputs": [
    {
     "data": {
      "text/plain": [
       "['i', 'have', 'been', 'help', 'them', 'he', 'believ', ',', 'love', '.']"
      ]
     },
     "execution_count": 13,
     "metadata": {},
     "output_type": "execute_result"
    }
   ],
   "source": [
    "arr2=[]\n",
    "from nltk.stem import SnowballStemmer\n",
    "model = SnowballStemmer('english')\n",
    "for i in t1_tok:\n",
    "  result = model.stem(i)\n",
    "  arr2.append(result)\n",
    "arr2"
   ]
  },
  {
   "cell_type": "code",
   "execution_count": 14,
   "metadata": {
    "ExecuteTime": {
     "end_time": "2020-12-18T08:55:36.727010Z",
     "start_time": "2020-12-18T08:55:36.655090Z"
    }
   },
   "outputs": [
    {
     "data": {
      "text/plain": [
       "('arabic',\n",
       " 'danish',\n",
       " 'dutch',\n",
       " 'english',\n",
       " 'finnish',\n",
       " 'french',\n",
       " 'german',\n",
       " 'hungarian',\n",
       " 'italian',\n",
       " 'norwegian',\n",
       " 'porter',\n",
       " 'portuguese',\n",
       " 'romanian',\n",
       " 'russian',\n",
       " 'spanish',\n",
       " 'swedish')"
      ]
     },
     "execution_count": 14,
     "metadata": {},
     "output_type": "execute_result"
    }
   ],
   "source": [
    "SnowballStemmer.languages"
   ]
  },
  {
   "cell_type": "code",
   "execution_count": 15,
   "metadata": {
    "ExecuteTime": {
     "end_time": "2020-12-18T08:55:39.198787Z",
     "start_time": "2020-12-18T08:55:36.727010Z"
    }
   },
   "outputs": [
    {
     "data": {
      "text/plain": [
       "['I', 'have', 'been', 'helping', 'them', 'he', 'belief', ',', 'love', '.']"
      ]
     },
     "execution_count": 15,
     "metadata": {},
     "output_type": "execute_result"
    }
   ],
   "source": [
    "arr3=[]\n",
    "from nltk.stem import WordNetLemmatizer\n",
    "lemmatizer = WordNetLemmatizer()\n",
    "for i in t1_tok:\n",
    "  result = lemmatizer.lemmatize(i)\n",
    "  arr3.append(result)\n",
    "arr3"
   ]
  }
 ],
 "metadata": {
  "kernelspec": {
   "display_name": "Python 3",
   "language": "python",
   "name": "python3"
  },
  "language_info": {
   "codemirror_mode": {
    "name": "ipython",
    "version": 3
   },
   "file_extension": ".py",
   "mimetype": "text/x-python",
   "name": "python",
   "nbconvert_exporter": "python",
   "pygments_lexer": "ipython3",
   "version": "3.8.5"
  },
  "toc": {
   "base_numbering": 1,
   "nav_menu": {},
   "number_sections": true,
   "sideBar": true,
   "skip_h1_title": false,
   "title_cell": "Table of Contents",
   "title_sidebar": "Contents",
   "toc_cell": false,
   "toc_position": {},
   "toc_section_display": true,
   "toc_window_display": false
  },
  "varInspector": {
   "cols": {
    "lenName": 16,
    "lenType": 16,
    "lenVar": 40
   },
   "kernels_config": {
    "python": {
     "delete_cmd_postfix": "",
     "delete_cmd_prefix": "del ",
     "library": "var_list.py",
     "varRefreshCmd": "print(var_dic_list())"
    },
    "r": {
     "delete_cmd_postfix": ") ",
     "delete_cmd_prefix": "rm(",
     "library": "var_list.r",
     "varRefreshCmd": "cat(var_dic_list()) "
    }
   },
   "types_to_exclude": [
    "module",
    "function",
    "builtin_function_or_method",
    "instance",
    "_Feature"
   ],
   "window_display": false
  }
 },
 "nbformat": 4,
 "nbformat_minor": 4
}
