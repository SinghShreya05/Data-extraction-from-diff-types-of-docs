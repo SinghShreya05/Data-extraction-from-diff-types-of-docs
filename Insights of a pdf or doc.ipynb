{
 "cells": [
  {
   "cell_type": "code",
   "execution_count": 31,
   "metadata": {},
   "outputs": [],
   "source": [
    "import string\n",
    "import re\n",
    "from nltk.tokenize import TweetTokenizer, word_tokenize "
   ]
  },
  {
   "cell_type": "code",
   "execution_count": 13,
   "metadata": {},
   "outputs": [],
   "source": [
    "import docx\n",
    "from docx import Document\n",
    "dolch_story = docx.Document('C:\\\\Users\\\\Shreya Singh\\\\Downloads\\\\dolch_story.docx')\n",
    "paras = []\n",
    "for paragraph in dolch_story.paragraphs:\n",
    "    paras.append(paragraph.text.lower())"
   ]
  },
  {
   "cell_type": "code",
   "execution_count": 5,
   "metadata": {},
   "outputs": [
    {
     "data": {
      "text/plain": [
       "['(This passage contains all of the 220 Dolch Basic Sight Words.)',\n",
       " '',\n",
       " 'The Best Thing In The World',\n",
       " 'Once upon a time, there were four brothers who lived in a far away land. Their father was an old king. One day he said, \"I will not live long now. Today you must start out into the world. In a year, bring back the best thing you have found. The one who can pick the best thing shall be the new king.\" The first brother said, \"I will look in every city or town. I will buy the best thing I can for my father.\" The next two brothers said, \"We will both go on fast ships over the sea. We will find something better.\" The last brother said, \"I am going to ask the people here in our own land to tell me the best thing.\" The other three brothers began to laugh. \"Then you will never be king!\" They said. ',\n",
       " '',\n",
       " 'The last brother started off. When he had gone about six miles, he met a man. \"What do you carry in those big bags?\" he asked. \"The best thing in the world,\" said the man. \"These are full of the good nuts which fall from my five nut trees.\" \"I don\\'t think that would work,\" said the brother to himself, \"I must try again.\" The brother went on another seven miles. He found a small brown bird. It had been hurt, so he put it in his coat where it could keep warm. As he went on, he saw a little girl crying. He ran to meet her. \"Why are you crying?\" he asked. \"I want to get some water from the well,\" she said. \"We use so much. We drink cold water. We wash the clothes clean with hot water. But I do not know how to pull it up. Please show me.\" The brother said, \"Hold this bird and I will help you. It does not fly around any more because it got its wing cut.\" \"Thank you. What a pretty bird!\" she said. \"I wish you would give it to me. If you will let me keep it, I will always be very kind to it. I will take care of it myself. I will make it grow well again.\" \"Yes, you may have it,\" said the brother. So he gave her the bird and went on. ',\n",
       " '',\n",
       " 'At night, he went to sleep under a round yellow haystack. When it was light again he walked on. Every day he would walk eight or ten miles. He asked the people about the best thing in the world. Some said it was best to sing. Some said it was best to run and jump and play. Some said the green grass was best. Some liked the red and blue and white flowers best. One man said the best thing was to ride a black horse. He always stopped to help people who needed it. Soon he made many friends. All the people began to like him. They would say, \"See there goes the king\\'s son. He would be just the right kind of king for us.\" Every door was open to him. The people would call to him to stop. They would ask him to come and eat with them. After he ate, he would sit down and read to the children. After he read, he showed them how to draw and write. Months went by. He still had no beautiful thing to take to his father. Just before the year was done, he went home again. ',\n",
       " '',\n",
       " 'The time came when the king called his sons together. \"What did you bring?\" He asked them all. The other brothers had many beautiful things. \"And what did you bring?\" said the king to the last brother. \"This is too funny!\" said the other brothers. \"He has nothing!\" But the king was kind to the last brother. \"What did you bring me?\" the king asked again. \"I bring only the friendship of your people,\" said the last  brother. \"That is the best thing!\" cried his father. \"You shall be the new king.\" ',\n",
       " '',\n",
       " 'The End',\n",
       " '',\n",
       " '',\n",
       " '',\n",
       " '',\n",
       " '',\n",
       " 'Submitted by: APool37253@aol.com']"
      ]
     },
     "execution_count": 5,
     "metadata": {},
     "output_type": "execute_result"
    }
   ],
   "source": [
    "paras"
   ]
  },
  {
   "cell_type": "code",
   "execution_count": 43,
   "metadata": {},
   "outputs": [],
   "source": [
    "def clean_para(str1):\n",
    "    para=re.sub(r' ., +, *, ?, ^, $, (, ), [, ], {, }, |, \\.,\"''\", ','',str(str1))\n",
    "    para=re.sub(r'\\n','',str(para))\n",
    "    para=re.sub(r'\\'','',str(para))\n",
    "    para=re.sub(r',','',str(para))\n",
    "    tokenizer=TweetTokenizer(preserve_case=False,strip_handles=True,reduce_len=True)\n",
    "    tweet_tokens=tokenizer.tokenize(para)\n",
    "    word_clean=[]\n",
    "    for words in tweet_tokens:\n",
    "        if words not in string.punctuation:\n",
    "            words=words.lower()\n",
    "            word_clean.append(words)\n",
    "            temp=set(word_clean)\n",
    "    return temp"
   ]
  },
  {
   "cell_type": "code",
   "execution_count": 7,
   "metadata": {},
   "outputs": [],
   "source": [
    "tok_words=clean_para(paras)"
   ]
  },
  {
   "cell_type": "code",
   "execution_count": 8,
   "metadata": {},
   "outputs": [],
   "source": [
    "def match_pattern_words(words, pattern,sen):\n",
    "    matched_word = []\n",
    "    for word in words:\n",
    "        if(re.match(pattern,word)):\n",
    "            matched_word.append(word)\n",
    "    pos=[]\n",
    "    for x in matched_word:\n",
    "        matches = re.finditer(x, sen)\n",
    "        matches_positions = [match.start() for match in matches]\n",
    "        pos.append(matches_positions)\n",
    "    return matched_word, pos"
   ]
  },
  {
   "cell_type": "code",
   "execution_count": 9,
   "metadata": {},
   "outputs": [],
   "source": [
    "import time"
   ]
  },
  {
   "cell_type": "code",
   "execution_count": 15,
   "metadata": {},
   "outputs": [
    {
     "name": "stdout",
     "output_type": "stream",
     "text": [
      " 0.0010013580322265625 seconds\n"
     ]
    }
   ],
   "source": [
    "start_time = time.time()\n",
    "match_pattern_words(tok_words, '.*ing',str(paras))\n",
    "print(\" %s seconds\" % (time.time() - start_time))"
   ]
  },
  {
   "cell_type": "code",
   "execution_count": 16,
   "metadata": {},
   "outputs": [
    {
     "data": {
      "text/plain": [
       "(['something',\n",
       "  'bring',\n",
       "  'king',\n",
       "  'sing',\n",
       "  'thing',\n",
       "  'things',\n",
       "  'wing',\n",
       "  'going',\n",
       "  'nothing',\n",
       "  'crying'],\n",
       " [[599],\n",
       "  [303, 3007, 3098, 3262, 3298],\n",
       "  [201, 398, 785, 2524, 2572, 2962, 3115, 3213, 3277, 3431],\n",
       "  [2182],\n",
       "  [82, 323, 375, 485, 603, 712, 948, 2137, 2346, 2851, 3072, 3197, 3383],\n",
       "  [3072],\n",
       "  [1662],\n",
       "  [647],\n",
       "  [3195],\n",
       "  [1310, 1351]])"
      ]
     },
     "execution_count": 16,
     "metadata": {},
     "output_type": "execute_result"
    }
   ],
   "source": [
    "match_pattern_words(tok_words, '.*ing',str(paras))"
   ]
  },
  {
   "cell_type": "code",
   "execution_count": 20,
   "metadata": {},
   "outputs": [],
   "source": [
    "import gensim \n",
    "from gensim.models import Word2Vec "
   ]
  },
  {
   "cell_type": "code",
   "execution_count": 54,
   "metadata": {},
   "outputs": [],
   "source": [
    "def clean_para_sen(sentence):\n",
    "    sentence=re.sub(r' ., +, *, ?, ^, $, (, ), [, ], {, }, |, \\.,\"''\", ','',str(sentence))\n",
    "    sentence=re.sub(r'\\n','',str(sentence))\n",
    "    sentence=re.sub(r'\\'','',str(sentence))\n",
    "    sentence=re.sub(r',','',str(sentence))\n",
    "    sentence=re.sub(r'``','',str(sentence))\n",
    "    data = []\n",
    "    #Sentokenizer=sent_tokenize(preserve_case=False,strip_handles=True,reduce_len=True)\n",
    "    for i in sent_tokenize(sentence): \n",
    "        temp1=[]\n",
    "    # tokenize the sentence into words \n",
    "        for j in word_tokenize(i):\n",
    "            if j not in string.punctuation:\n",
    "                temp1.append(j.lower()) \n",
    "  \n",
    "        data.append(temp1)\n",
    "    return data"
   ]
  },
  {
   "cell_type": "code",
   "execution_count": 56,
   "metadata": {},
   "outputs": [],
   "source": [
    "clean_words_matrix=clean_para_sen((paras))"
   ]
  },
  {
   "cell_type": "code",
   "execution_count": 57,
   "metadata": {},
   "outputs": [
    {
     "data": {
      "text/plain": [
       "['their', 'father', 'was', 'an', 'old', 'king']"
      ]
     },
     "execution_count": 57,
     "metadata": {},
     "output_type": "execute_result"
    }
   ],
   "source": [
    "clean_words_matrix[2]"
   ]
  },
  {
   "cell_type": "code",
   "execution_count": 64,
   "metadata": {},
   "outputs": [],
   "source": [
    "import warnings"
   ]
  },
  {
   "cell_type": "code",
   "execution_count": 78,
   "metadata": {},
   "outputs": [],
   "source": [
    "def cont_bag_of_words(vect,word1, word2):\n",
    "    warnings.filterwarnings(action = 'ignore')\n",
    "    model1 = gensim.models.Word2Vec(vect, min_count = 1, size = 1000, window = 5) \n",
    "    return model1.similarity(word1, word2)    "
   ]
  },
  {
   "cell_type": "code",
   "execution_count": 79,
   "metadata": {},
   "outputs": [
    {
     "data": {
      "text/plain": [
       "0.033335455"
      ]
     },
     "execution_count": 79,
     "metadata": {},
     "output_type": "execute_result"
    }
   ],
   "source": [
    "cont_bag_of_words(clean_words_matrix,'father', 'king')"
   ]
  },
  {
   "cell_type": "code",
   "execution_count": 80,
   "metadata": {},
   "outputs": [
    {
     "data": {
      "text/plain": [
       "0.01934857"
      ]
     },
     "execution_count": 80,
     "metadata": {},
     "output_type": "execute_result"
    }
   ],
   "source": [
    "cont_bag_of_words(clean_words_matrix,'crying', 'cried')"
   ]
  },
  {
   "cell_type": "code",
   "execution_count": 82,
   "metadata": {},
   "outputs": [],
   "source": [
    "def skip_gram(vect,word1, word2):\n",
    "    warnings.filterwarnings(action = 'ignore')\n",
    "    model2 = gensim.models.Word2Vec(vect, min_count = 1, size = 1000, window = 5, sg = 1) \n",
    "    return model2.similarity(word1, word2)  "
   ]
  },
  {
   "cell_type": "code",
   "execution_count": 84,
   "metadata": {},
   "outputs": [
    {
     "data": {
      "text/plain": [
       "0.023282867"
      ]
     },
     "execution_count": 84,
     "metadata": {},
     "output_type": "execute_result"
    }
   ],
   "source": [
    "skip_gram(clean_words_matrix,'crying', 'cried')"
   ]
  },
  {
   "cell_type": "code",
   "execution_count": 114,
   "metadata": {},
   "outputs": [],
   "source": [
    "def skip_gram_similarity(word1): #we can use this to find out if a word is present in the article or not\n",
    "    temp1=[]\n",
    "    temp=[]\n",
    "    warnings.filterwarnings(action = 'ignore')\n",
    "    for x in clean_words_matrix:\n",
    "        for y in x:\n",
    "            temp1.append(y)\n",
    "    temp1=set(temp1)\n",
    "    for word in temp1:\n",
    "        model2 = gensim.models.Word2Vec(clean_words_matrix, min_count = 1, size = 1000, window = 5, sg = 1)\n",
    "        if model2.similarity(word1, word) >= .080:\n",
    "            temp.append(word)\n",
    "    return temp"
   ]
  },
  {
   "cell_type": "code",
   "execution_count": 115,
   "metadata": {},
   "outputs": [
    {
     "data": {
      "text/plain": [
       "['was', 'big', 'gone', 'day', 'is', 'in', 'father', 'miles']"
      ]
     },
     "execution_count": 115,
     "metadata": {},
     "output_type": "execute_result"
    }
   ],
   "source": [
    "skip_gram_similarity('father')"
   ]
  },
  {
   "cell_type": "code",
   "execution_count": 116,
   "metadata": {},
   "outputs": [
    {
     "data": {
      "text/plain": [
       "['last', 'take', 'cried', 'would', 'sea']"
      ]
     },
     "execution_count": 116,
     "metadata": {},
     "output_type": "execute_result"
    }
   ],
   "source": [
    "skip_gram_similarity('cried')"
   ]
  },
  {
   "cell_type": "code",
   "execution_count": 125,
   "metadata": {},
   "outputs": [],
   "source": [
    "def find_pos_of_similar_words(str1,sen):\n",
    "    pos=[]\n",
    "    for x in skip_gram_similarity(str1):\n",
    "        print(x)\n",
    "        matches = re.finditer(x, sen)\n",
    "        matches_positions = [match.start() for match in matches]\n",
    "        pos.append(matches_positions)\n",
    "    return pos"
   ]
  },
  {
   "cell_type": "code",
   "execution_count": 126,
   "metadata": {},
   "outputs": [
    {
     "name": "stdout",
     "output_type": "stream",
     "text": [
      "last\n",
      "take\n",
      "cried\n",
      "would\n",
      "sea\n"
     ]
    },
    {
     "data": {
      "text/plain": [
       "[[622, 815, 3127, 3234, 3350],\n",
       " [1818, 2860],\n",
       " [3391],\n",
       " [1073, 1728, 2071, 2493, 2540, 2625, 2657, 2715],\n",
       " [581]]"
      ]
     },
     "execution_count": 126,
     "metadata": {},
     "output_type": "execute_result"
    }
   ],
   "source": [
    "find_pos_of_similar_words('cried',str(paras))"
   ]
  }
 ],
 "metadata": {
  "kernelspec": {
   "display_name": "Python 3",
   "language": "python",
   "name": "python3"
  },
  "language_info": {
   "codemirror_mode": {
    "name": "ipython",
    "version": 3
   },
   "file_extension": ".py",
   "mimetype": "text/x-python",
   "name": "python",
   "nbconvert_exporter": "python",
   "pygments_lexer": "ipython3",
   "version": "3.8.3"
  }
 },
 "nbformat": 4,
 "nbformat_minor": 4
}
